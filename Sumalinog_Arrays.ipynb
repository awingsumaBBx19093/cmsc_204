{
  "nbformat": 4,
  "nbformat_minor": 0,
  "metadata": {
    "colab": {
      "provenance": [],
      "authorship_tag": "ABX9TyNTcYZyFyzHW14C4gjsZomH",
      "include_colab_link": true
    },
    "kernelspec": {
      "name": "python3",
      "display_name": "Python 3"
    },
    "language_info": {
      "name": "python"
    }
  },
  "cells": [
    {
      "cell_type": "markdown",
      "metadata": {
        "id": "view-in-github",
        "colab_type": "text"
      },
      "source": [
        "<a href=\"https://colab.research.google.com/github/awingsumaBBx19093/cmsc_204/blob/main/Sumalinog_Arrays.ipynb\" target=\"_parent\"><img src=\"https://colab.research.google.com/assets/colab-badge.svg\" alt=\"Open In Colab\"/></a>"
      ]
    },
    {
      "cell_type": "markdown",
      "source": [
        "#### Aldwin C. Sumalinog | CMSC 204 Data Structures and Algorithms\n",
        "#### Programming Log 1\n",
        "## codebasics Exercise: Array Data Structure\n",
        "***************\n",
        "**Given monthly expenses: [Jan is 2200] [Feb is 2350] [Mar is 2600] [Apr is 2130] [May is 2190]**"
      ],
      "metadata": {
        "id": "-plsD6SOfDBc"
      }
    },
    {
      "cell_type": "code",
      "source": [
        "# list storing given monthly expenses\n",
        "mo_expenses = [2200, 2350, 2600, 2130, 2190]"
      ],
      "metadata": {
        "id": "RukNP1oAfBHn"
      },
      "execution_count": null,
      "outputs": []
    },
    {
      "cell_type": "markdown",
      "source": [
        "**1. In Feb, how many dollars you spent extra compare to January?**"
      ],
      "metadata": {
        "id": "P0Lvx2d_iA1L"
      }
    },
    {
      "cell_type": "code",
      "source": [
        "extra = mo_expenses[1] - mo_expenses[0]\n",
        "print(\"Dollars spent extra in Feb compared to Jan is\", extra)"
      ],
      "metadata": {
        "colab": {
          "base_uri": "https://localhost:8080/"
        },
        "id": "oCd1atpch69J",
        "outputId": "85fe96fb-de85-48eb-c212-024b01f3e063"
      },
      "execution_count": null,
      "outputs": [
        {
          "output_type": "stream",
          "name": "stdout",
          "text": [
            "Dollars spent extra in Feb compared to Jan is 150\n"
          ]
        }
      ]
    },
    {
      "cell_type": "markdown",
      "source": [
        "**2. Find out your total expense in first quarter (first three months) of the year.**\n",
        "\n"
      ],
      "metadata": {
        "id": "PsLnbDhokIUc"
      }
    },
    {
      "cell_type": "code",
      "source": [
        "ttl_expenses = 0\n",
        "for i in mo_expenses[0:3]:\n",
        "  ttl_expenses = ttl_expenses + i\n",
        "\n",
        "print(\"Total expense for 1st quarter is\", ttl_expenses)"
      ],
      "metadata": {
        "colab": {
          "base_uri": "https://localhost:8080/"
        },
        "id": "pYYhPSNbj8Rd",
        "outputId": "ed800af7-ad58-4671-afe0-0b956c8cafb5"
      },
      "execution_count": null,
      "outputs": [
        {
          "output_type": "stream",
          "name": "stdout",
          "text": [
            "Total expense for 1st quarter is 7150\n"
          ]
        }
      ]
    },
    {
      "cell_type": "markdown",
      "source": [
        "**3. Find out if you spent exactly 2000 dollars in any month**"
      ],
      "metadata": {
        "id": "350S2ooNoEHM"
      }
    },
    {
      "cell_type": "code",
      "source": [
        "spent2k = 2000\n",
        "if spent2k in mo_expenses:\n",
        "  print(\"You have spent exactly 2000 dollars.\")\n",
        "else:\n",
        "  print(\"You have not spent exactly 2000 dollars in any month.\")"
      ],
      "metadata": {
        "colab": {
          "base_uri": "https://localhost:8080/"
        },
        "id": "9BHz11Fdlt2T",
        "outputId": "40f532c8-eff4-4b69-d6e9-186d7997b7cf"
      },
      "execution_count": null,
      "outputs": [
        {
          "output_type": "stream",
          "name": "stdout",
          "text": [
            "You have not spent exactly 2000 dollars in any month.\n"
          ]
        }
      ]
    },
    {
      "cell_type": "markdown",
      "source": [
        "**4. June month just finished and your expense is 1980 dollar. Add this item to our monthly expense list.**"
      ],
      "metadata": {
        "id": "nLag6tRvpp1f"
      }
    },
    {
      "cell_type": "code",
      "source": [
        "mo_expenses.append(1980)\n",
        "print(\"New monthly expenses with June expense added:\", mo_expenses)"
      ],
      "metadata": {
        "colab": {
          "base_uri": "https://localhost:8080/"
        },
        "id": "0RVMBLVtoi3o",
        "outputId": "a2d79841-d579-4a4f-8c1e-8a0398170391"
      },
      "execution_count": null,
      "outputs": [
        {
          "output_type": "stream",
          "name": "stdout",
          "text": [
            "New monthly expenses with June expense added: [2200, 2350, 2600, 2130, 2190, 1980]\n"
          ]
        }
      ]
    },
    {
      "cell_type": "markdown",
      "source": [
        "**5. You returned an item that you bought in a month of April and got a refund of 200 dollars. Make a correction to your monthly expense list based on this.**"
      ],
      "metadata": {
        "id": "tmMTv4EGqYSS"
      }
    },
    {
      "cell_type": "code",
      "source": [
        "apr_adjusted = mo_expenses[3] - 200\n",
        "print(\"Adjusted expenses for the month of April is\", apr_adjusted)\n",
        "mo_expenses[3] = apr_adjusted\n",
        "print(\"Updated monthly expense list:\", mo_expenses)"
      ],
      "metadata": {
        "colab": {
          "base_uri": "https://localhost:8080/"
        },
        "id": "2qCXa-JQqVKd",
        "outputId": "b5ab4ba0-a9e5-4bb6-b337-de43b0d4b250"
      },
      "execution_count": null,
      "outputs": [
        {
          "output_type": "stream",
          "name": "stdout",
          "text": [
            "Adjusted expenses for the month of April is 1930\n",
            "Updated monthly expense list: [2200, 2350, 2600, 1930, 2190, 1980]\n"
          ]
        }
      ]
    },
    {
      "cell_type": "markdown",
      "source": [
        "***************\n",
        "#### **List of favourite Marvel superheroes**\n",
        "**heroes = ['spider man', 'thor', 'hulk', 'iron man', 'captain america']**"
      ],
      "metadata": {
        "id": "vqeJHrVc1XfL"
      }
    },
    {
      "cell_type": "code",
      "source": [
        "heroes = ['spider man', 'thor', 'hulk', 'iron man', 'captain america']"
      ],
      "metadata": {
        "id": "VrwpAInL1ZRd"
      },
      "execution_count": null,
      "outputs": []
    },
    {
      "cell_type": "markdown",
      "source": [
        "**1. Find out the length of the list**"
      ],
      "metadata": {
        "id": "9CSxR_rS1dQG"
      }
    },
    {
      "cell_type": "code",
      "source": [
        "print(\"Length of heroes list is\", len(heroes))"
      ],
      "metadata": {
        "colab": {
          "base_uri": "https://localhost:8080/"
        },
        "id": "aC1LbgE41bJf",
        "outputId": "9d3aa78a-0f0b-4508-d963-91055a2f6cb9"
      },
      "execution_count": null,
      "outputs": [
        {
          "output_type": "stream",
          "name": "stdout",
          "text": [
            "Length of heroes list is 5\n"
          ]
        }
      ]
    },
    {
      "cell_type": "markdown",
      "source": [
        "**2. Add 'black panther' at the end of the list**"
      ],
      "metadata": {
        "id": "7jVQjKEuD3eU"
      }
    },
    {
      "cell_type": "code",
      "source": [
        "heroes.append('black panther')\n",
        "print(\"Updated heroes list including black panther:\\n\", heroes)"
      ],
      "metadata": {
        "colab": {
          "base_uri": "https://localhost:8080/"
        },
        "id": "lf8Yqmo9D4ER",
        "outputId": "7827b9e1-01c9-47eb-aa7f-24560bbf2f74"
      },
      "execution_count": null,
      "outputs": [
        {
          "output_type": "stream",
          "name": "stdout",
          "text": [
            "Updated heroes list including black panther:\n",
            " ['spider man', 'thor', 'hulk', 'iron man', 'captain america', 'black panther', 'black panther']\n"
          ]
        }
      ]
    },
    {
      "cell_type": "markdown",
      "source": [
        "**3. You realize that you need to add 'black panther' after 'hulk', so remove it from the list first and then add it after 'hulk'**"
      ],
      "metadata": {
        "id": "4jRhwhpmD7hO"
      }
    },
    {
      "cell_type": "code",
      "source": [
        "# removing black panther from the list\n",
        "heroes.pop()"
      ],
      "metadata": {
        "colab": {
          "base_uri": "https://localhost:8080/",
          "height": 35
        },
        "id": "u1_bEIQxD6TV",
        "outputId": "3f02227f-a611-40ad-d5b5-5fee44ed6768"
      },
      "execution_count": null,
      "outputs": [
        {
          "output_type": "execute_result",
          "data": {
            "text/plain": [
              "'black panther'"
            ],
            "application/vnd.google.colaboratory.intrinsic+json": {
              "type": "string"
            }
          },
          "metadata": {},
          "execution_count": 37
        }
      ]
    },
    {
      "cell_type": "code",
      "source": [
        "# original heroes list with 'black panther' removed\n",
        "print(heroes)"
      ],
      "metadata": {
        "colab": {
          "base_uri": "https://localhost:8080/"
        },
        "id": "QNYABOAKEDeo",
        "outputId": "1f5b7a41-cb6f-4b0a-b8eb-40359fbc515c"
      },
      "execution_count": null,
      "outputs": [
        {
          "output_type": "stream",
          "name": "stdout",
          "text": [
            "['spider man', 'thor', 'hulk', 'iron man', 'captain america']\n"
          ]
        }
      ]
    },
    {
      "cell_type": "code",
      "source": [
        "# adding 'black panther' after 'hulk'\n",
        "heroes.insert(3, 'black panther')\n",
        "print(\"Updated heroes list with 'black panther' after 'the hulk':\\n\", heroes)"
      ],
      "metadata": {
        "colab": {
          "base_uri": "https://localhost:8080/"
        },
        "id": "SWtAwFLoEIHW",
        "outputId": "61530b83-8f0c-4a79-ef41-5e39bd46bdfa"
      },
      "execution_count": null,
      "outputs": [
        {
          "output_type": "stream",
          "name": "stdout",
          "text": [
            "Updated heroes list with 'black panther' after 'the hulk':\n",
            " ['spider man', 'thor', 'hulk', 'black panther', 'iron man', 'captain america']\n"
          ]
        }
      ]
    },
    {
      "cell_type": "markdown",
      "source": [
        "**4. Now You don't like thor and hulk because they get angry easily :)**\n",
        "\n",
        "**So, you want them to remove thor and hulk from list and replace them with doctor strange (because he is cool).**\n",
        "\n",
        "**Do that with one line of code.**"
      ],
      "metadata": {
        "id": "SkejCJqLEdze"
      }
    },
    {
      "cell_type": "code",
      "source": [
        "# removing thor\n",
        "heroes.remove('thor')\n",
        "# removing hulk\n",
        "heroes.remove('hulk')\n",
        "# display heroes list with thor and hulk removed\n",
        "print(\"Updated list without thor and hulk:\\n\", heroes)"
      ],
      "metadata": {
        "colab": {
          "base_uri": "https://localhost:8080/"
        },
        "id": "Vo2eGCfgEaAu",
        "outputId": "6ecb983e-4134-43ca-fd0d-0d396f5c7788"
      },
      "execution_count": null,
      "outputs": [
        {
          "output_type": "stream",
          "name": "stdout",
          "text": [
            "Updated list without thor and hulk:\n",
            " ['spider man', 'black panther', 'iron man', 'captain america']\n"
          ]
        }
      ]
    },
    {
      "cell_type": "code",
      "source": [
        "# adding doctor strange in lieu of thor and hulk\n",
        "heroes.insert(1, 'doctor strange')\n",
        "print(\"Updated heroes list with 'doctor strange' added:\\n\", heroes)"
      ],
      "metadata": {
        "colab": {
          "base_uri": "https://localhost:8080/"
        },
        "id": "lgzpWrDfEixv",
        "outputId": "1b7ae56b-7d85-4c0b-b8f3-7b6527ef9580"
      },
      "execution_count": null,
      "outputs": [
        {
          "output_type": "stream",
          "name": "stdout",
          "text": [
            "Updated heroes list with 'doctor strange' added:\n",
            " ['spider man', 'doctor strange', 'black panther', 'iron man', 'captain america']\n"
          ]
        }
      ]
    },
    {
      "cell_type": "markdown",
      "source": [
        "**5. Sort the heroes list in alphabetical order.**"
      ],
      "metadata": {
        "id": "GtDNu98ZEm8K"
      }
    },
    {
      "cell_type": "code",
      "source": [
        "# sort heroes list in alphabetical order using the sort() function\n",
        "heroes.sort()\n",
        "\n",
        "# display sorted heroes list\n",
        "print(\"Heroes list with sorted array elements:\\n\", heroes)"
      ],
      "metadata": {
        "colab": {
          "base_uri": "https://localhost:8080/"
        },
        "id": "eqm9Jo65Ejgm",
        "outputId": "c72a7bd3-8030-4056-eded-80399001b821"
      },
      "execution_count": null,
      "outputs": [
        {
          "output_type": "stream",
          "name": "stdout",
          "text": [
            "Heroes list with sorted array elements:\n",
            " ['black panther', 'captain america', 'doctor strange', 'iron man', 'spider man']\n"
          ]
        }
      ]
    },
    {
      "cell_type": "markdown",
      "source": [
        "***************\n",
        "**Create a list of all odd numbers between 1 and a max number. Max number is something you need to take from a user using input() function.**"
      ],
      "metadata": {
        "id": "usJUlGPyKr0G"
      }
    },
    {
      "cell_type": "code",
      "source": [
        "# display program description\n",
        "print(\"This program displays all odd numbers between 1 and n (input)\")\n",
        "# take input from the user for max number n\n",
        "max_num = input(\"Enter any number (n): \")\n",
        "\n",
        "# declare array varaible odd_num\n",
        "odd_num = []\n",
        "# declare variable to take range from 1 to max number n\n",
        "values = range(int(max_num) + 1)\n",
        "\n",
        "# loop to evaluate odd number for the range 1 to max number n\n",
        "for i in values:\n",
        "  if i % 2 == 1:\n",
        "    odd_num.append(i)\n",
        "\n",
        "# display all odd numbers between 1 to max number n\n",
        "print(\"Odd numbers between 1 and %s are %s\" % (max_num, odd_num))"
      ],
      "metadata": {
        "colab": {
          "base_uri": "https://localhost:8080/"
        },
        "id": "04oi2EX0Eppq",
        "outputId": "e8e8e5a2-aa8b-4116-b168-81bf58111313"
      },
      "execution_count": null,
      "outputs": [
        {
          "output_type": "stream",
          "name": "stdout",
          "text": [
            "This program displays all odd numbers between 1 and n (input)\n",
            "Enter any number (n): 35\n",
            "Odd numbers between 1 and 35 are [1, 3, 5, 7, 9, 11, 13, 15, 17, 19, 21, 23, 25, 27, 29, 31, 33, 35]\n"
          ]
        }
      ]
    }
  ]
}