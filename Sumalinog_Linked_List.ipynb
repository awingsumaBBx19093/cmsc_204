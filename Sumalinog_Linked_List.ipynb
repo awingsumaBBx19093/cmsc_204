{
  "nbformat": 4,
  "nbformat_minor": 0,
  "metadata": {
    "colab": {
      "provenance": [],
      "authorship_tag": "ABX9TyNAM9Wqm6IHZdGxQwlC39O+",
      "include_colab_link": true
    },
    "kernelspec": {
      "name": "python3",
      "display_name": "Python 3"
    },
    "language_info": {
      "name": "python"
    }
  },
  "cells": [
    {
      "cell_type": "markdown",
      "metadata": {
        "id": "view-in-github",
        "colab_type": "text"
      },
      "source": [
        "<a href=\"https://colab.research.google.com/github/awingsumaBBx19093/cmsc_204/blob/main/Sumalinog_Linked_List.ipynb\" target=\"_parent\"><img src=\"https://colab.research.google.com/assets/colab-badge.svg\" alt=\"Open In Colab\"/></a>"
      ]
    },
    {
      "cell_type": "markdown",
      "source": [
        "### **CMSC 204** | Programming Log #2 | Sumalinog, Aldwin C. | Linked List"
      ],
      "metadata": {
        "id": "VPqt6gGTAbA3"
      }
    },
    {
      "cell_type": "markdown",
      "source": [
        "For this week’s programming log, I’ll start by implementing a “singly linked list” with its corresponding operations.\n",
        "\n",
        "The program includes:\n",
        "\n",
        "*   ListNode class - basic class to create the node\n",
        "*   LinkedList class with the following operations:\n",
        "\n",
        "---\n",
        "*   Traversal (search, moving back and forth)\n",
        "*   Insertion at (beginning, end, specified location)\n",
        "*   Deletion at (beginning, end, any node by value)\n",
        "\n",
        "---\n",
        "\n",
        "A basic node class named **ListNode** will be the template for creating nodes in our singly linked list.\n",
        "\n",
        "Another class named **LinkedList** will serve as the blueprint for creating linked lists in our program. With this class, we can implement different operations for our linked list.\n",
        "\n",
        "The **LinkedList** class in the figure below includes the *__init__* method to initialize the *head* to refer to *None* as the starting point. In addition, a *traversal* method is included to traverse the linked list and display the contents if *head* is not null/empty. Otherwise, a message will show - *‘Linked list is empty!’* if *head* is null."
      ],
      "metadata": {
        "id": "8XnSX2H6m5Xe"
      }
    },
    {
      "cell_type": "code",
      "execution_count": null,
      "metadata": {
        "id": "CoDfeqfhAPd2"
      },
      "outputs": [],
      "source": [
        "class ListNode: # basic node class\n",
        "  def __init__ (self, data=None):\n",
        "    self.data = data\n",
        "    self.next = None\n",
        "\n",
        "class LinkedList:\n",
        "  def __init__ (self):\n",
        "    self.head = None # starting point of the linked list pointing to None\n",
        "\n",
        "  def traversal (self): # traversal operation of the linked list\n",
        "    node = self.head # var node as reference to linked list head\n",
        "    if node is None: # check if head is null\n",
        "      print('Linked list is empty!')\n",
        "    else:\n",
        "      while node is not None: # if head is not empty, iterate and display\n",
        "        print(node.data)\n",
        "        node = node.next"
      ]
    },
    {
      "cell_type": "markdown",
      "source": [
        "### **TEST CASE 1:** printing an empty linked list"
      ],
      "metadata": {
        "id": "KTAheXyHXCFl"
      }
    },
    {
      "cell_type": "markdown",
      "source": [
        "An attempt to print the contents or elements of the linked list when head is null or empty."
      ],
      "metadata": {
        "id": "qThc7KHSoF6c"
      }
    },
    {
      "cell_type": "code",
      "source": [
        "LL1 = LinkedList() # initialize LL1 as LinkedList\n",
        "LL1.traversal() # print contents of LL1 (which is empty)"
      ],
      "metadata": {
        "id": "5u0aKaGxBQGq",
        "colab": {
          "base_uri": "https://localhost:8080/"
        },
        "outputId": "eb6847cc-5022-4d9a-dcb3-1937ef3b23f1"
      },
      "execution_count": null,
      "outputs": [
        {
          "output_type": "stream",
          "name": "stdout",
          "text": [
            "Linked list is empty!\n"
          ]
        }
      ]
    },
    {
      "cell_type": "markdown",
      "source": [
        "# **Linked List INSERT OPERATION**"
      ],
      "metadata": {
        "id": "0pT7ig-d0jdk"
      }
    },
    {
      "cell_type": "markdown",
      "source": [
        "The following code introduces 2 methods: *insert_beginning* which inserts an element at the beginning of the linked list making it as the head of the linked list.\n",
        "\n",
        "On the other hand, the method *insert_end* will insert an element at the end of the linked list. Prior to insertion, the method will check first if *head* is null or empty. If it is, the new element will become the *head* of the linked list. Otherwise, a variable named **node** (as element) will become the head and with the while loop, it will traverse the linked list until it finds the end and inserts the new element."
      ],
      "metadata": {
        "id": "GmZo2ZeJoZd2"
      }
    },
    {
      "cell_type": "code",
      "source": [
        "class ListNode: # basic node class\n",
        "  def __init__ (self, data=None):\n",
        "    self.data = data\n",
        "    self.next = None\n",
        "\n",
        "class LinkedList:\n",
        "  def __init__ (self):\n",
        "    self.head = None # starting point of the linked list pointing to None\n",
        "\n",
        "  def traversal (self): # traversal operation of the linked list\n",
        "    node = self.head # var node as reference to linked list head\n",
        "    if node is None: # check if head is null\n",
        "      print('Linked list is empty!')\n",
        "    else:\n",
        "      while node is not None: # if head is not empty, iterate and display\n",
        "        print(node.data)\n",
        "        node = node.next\n",
        "\n",
        "  def insert_beginning (self, data): # insert at beginning method\n",
        "    new_node = ListNode(data)\n",
        "    new_node.next = self.head\n",
        "    self.head = new_node\n",
        "\n",
        "  def insert_end (self, data): # insert at the end method\n",
        "    new_node = ListNode(data)\n",
        "    \n",
        "    if self.head is None: # check if head is null or empty\n",
        "      self.head = new_node\n",
        "    else: # head is not null/empty\n",
        "      node = self.head\n",
        "      while node.next is not None:\n",
        "        node = node.next\n",
        "      node.next = new_node\n",
        "  \n",
        "  def insert_at (self, target, data): # insert in the specified location\n",
        "    node = self.head\n",
        "    while node is not None:\n",
        "      if target == node.data: # if target is found, break from the loop\n",
        "        break\n",
        "      node = node.next\n",
        "    if node is None: # node is not found within the linked list\n",
        "      print('Node is not in the linked list.')\n",
        "    else: # node is found\n",
        "      new_node = ListNode(data)\n",
        "      new_node.next = node.next\n",
        "      node.next = new_node"
      ],
      "metadata": {
        "id": "vhdPXswsCflq"
      },
      "execution_count": null,
      "outputs": []
    },
    {
      "cell_type": "markdown",
      "source": [
        "#### **TEST CASE 2:** printing a non-empty linked list with insertion at beginning"
      ],
      "metadata": {
        "id": "6CGHAP3vevw4"
      }
    },
    {
      "cell_type": "code",
      "source": [
        "LL = LinkedList()\n",
        "LL.insert_beginning('Thor')\n",
        "LL.insert_beginning('Spiderman')\n",
        "LL.traversal()"
      ],
      "metadata": {
        "id": "1MbGzuUhDFGC",
        "colab": {
          "base_uri": "https://localhost:8080/"
        },
        "outputId": "31839343-90d4-4343-de8a-22f9cb733867"
      },
      "execution_count": null,
      "outputs": [
        {
          "output_type": "stream",
          "name": "stdout",
          "text": [
            "Spiderman\n",
            "Thor\n"
          ]
        }
      ]
    },
    {
      "cell_type": "markdown",
      "source": [
        "#### **TEST CASE 3:** printing a non-empty linked list with insertion at end"
      ],
      "metadata": {
        "id": "7_QsjfqBmU-7"
      }
    },
    {
      "cell_type": "code",
      "source": [
        "LL.insert_end('Capt. America')\n",
        "LL.traversal()"
      ],
      "metadata": {
        "id": "nfgFg_kbEYVl",
        "colab": {
          "base_uri": "https://localhost:8080/"
        },
        "outputId": "9eb9b399-10bf-49ef-aba7-4c9fe518cdb6"
      },
      "execution_count": null,
      "outputs": [
        {
          "output_type": "stream",
          "name": "stdout",
          "text": [
            "Spiderman\n",
            "Thor\n",
            "Capt. America\n"
          ]
        }
      ]
    },
    {
      "cell_type": "markdown",
      "source": [
        "The code above also shows the *insert_at* method which inserts an element at a specified location or a given node in the linked list. The method includes a variable named **node** and takes the head of the linked list. With the while loop, the method will find the target element and break out of the loop if it’s found to insert the element in that specified location. Otherwise, the method will display *‘Node is not in the linked list.’* if *target* is not found. A demonstration of this method can be seen in test case 4 below."
      ],
      "metadata": {
        "id": "NLaqSng4pFFq"
      }
    },
    {
      "cell_type": "markdown",
      "source": [
        "#### **TEST CASE 4:** printing a non-empty linked list with insertion at specified location"
      ],
      "metadata": {
        "id": "sFor0aXurfDq"
      }
    },
    {
      "cell_type": "code",
      "source": [
        "LL.insert_at('Thor','Dr. Strange')\n",
        "LL.traversal()"
      ],
      "metadata": {
        "colab": {
          "base_uri": "https://localhost:8080/"
        },
        "id": "r9PGAKZ0lp8Y",
        "outputId": "3b1cd3b2-7a5e-469f-dc24-83d2c7b15f1f"
      },
      "execution_count": null,
      "outputs": [
        {
          "output_type": "stream",
          "name": "stdout",
          "text": [
            "Spiderman\n",
            "Thor\n",
            "Dr. Strange\n",
            "Capt. America\n"
          ]
        }
      ]
    },
    {
      "cell_type": "markdown",
      "source": [
        "# **Linked List DELETE OPERATION**"
      ],
      "metadata": {
        "id": "4IrsjAmK1BIO"
      }
    },
    {
      "cell_type": "markdown",
      "source": [
        "This time, we are going to demonstrate how to remove an element at the start of the linked list. In the code that follows, a method named *remove_beginning* will perform the deletion of an element at the start of the linked list. However, the method will display a message *‘Linked list is empty. Nothing to remove.’* if the head of the linked list is null or empty. Otherwise, the method will proceed with removing the first element."
      ],
      "metadata": {
        "id": "Jnoh5SsIpyF5"
      }
    },
    {
      "cell_type": "code",
      "source": [
        "class ListNode: # basic node class\n",
        "  def __init__ (self, data=None):\n",
        "    self.data = data\n",
        "    self.next = None\n",
        "\n",
        "class LinkedList:\n",
        "  def __init__ (self):\n",
        "    self.head = None # starting point of the linked list pointing to None\n",
        "\n",
        "  def traversal (self): # traversal operation of the linked list\n",
        "    node = self.head # var node as reference to linked list head\n",
        "    if node is None: # check if head is null\n",
        "      print('Linked list is empty!')\n",
        "    else:\n",
        "      while node is not None: # if head is not empty, iterate and display\n",
        "        print(node.data)\n",
        "        node = node.next\n",
        "\n",
        "  def insert_beginning (self, data): # insert at beginning method\n",
        "    new_node = ListNode(data)\n",
        "    new_node.next = self.head\n",
        "    self.head = new_node\n",
        "\n",
        "  def insert_end (self, data): # insert at the end method\n",
        "    new_node = ListNode(data)\n",
        "    \n",
        "    if self.head is None: # check if head is null or empty\n",
        "      self.head = new_node\n",
        "    else: # head is not null/empty\n",
        "      node = self.head\n",
        "      while node.next is not None:\n",
        "        node = node.next\n",
        "      node.next = new_node\n",
        "  \n",
        "  def insert_at (self, target, data): # insert in the specified location\n",
        "    node = self.head\n",
        "    while node is not None:\n",
        "      if target == node.data: # if target is found, break from the loop\n",
        "        break\n",
        "      node = node.next\n",
        "    if node is None: # node is not found within the linked list\n",
        "      print('Node is not in the linked list.')\n",
        "    else: # node is found\n",
        "      new_node = ListNode(data)\n",
        "      new_node.next = node.next\n",
        "      node.next = new_node\n",
        "\n",
        "  def remove_beginning (self): # remove starting element\n",
        "    if self.head is None: # head is null or empty, nothing to delete\n",
        "      print('Linked list is empty. There is nothing to remove.')\n",
        "      return\n",
        "    # linked list is not empty\n",
        "    self.head = self.head.next\n",
        "\n",
        "  def remove_end (self):\n",
        "    if self.head is None:\n",
        "      print('Linked list is empty. There is nothing to remove.')\n",
        "      return\n",
        "    elif self.head.next is None: # if only 1 element in the linked list\n",
        "      self.head = None # point head to None, linked list is empty\n",
        "    else:\n",
        "      # linked list is not empty\n",
        "      node = self.head\n",
        "      while node.next.next is not None:\n",
        "        node = node.next\n",
        "      node.next = None # remove the element by assigning None\n",
        "\n",
        "  def remove_at (self, target):\n",
        "    if self.head is None: # check if linked list is empty\n",
        "      print('Linked list is empty. There is nothing to remove.')\n",
        "      return\n",
        "    if target==self.head.data: # checks if target matches the head node\n",
        "      self.head = self.head.next\n",
        "      return\n",
        "    node = self.head\n",
        "    while node.next is not None:\n",
        "      if target == node.next.data: # look for previous node of given node\n",
        "        break # once found, break out of while loop\n",
        "      node = node.next\n",
        "    if node.next is None: # element/node not found after traversal\n",
        "      print('Element/node is not in the linked list.')\n",
        "    else:\n",
        "      node.next = node.next.next # matching node/element, remove"
      ],
      "metadata": {
        "id": "sHm2yIaLrCyZ"
      },
      "execution_count": null,
      "outputs": []
    },
    {
      "cell_type": "code",
      "source": [
        "# display an empty linked list\n",
        "LL = LinkedList()\n",
        "LL.traversal()"
      ],
      "metadata": {
        "colab": {
          "base_uri": "https://localhost:8080/"
        },
        "id": "6u1MhiyJgTLT",
        "outputId": "096e24fd-9336-47f7-910c-9b162a732083"
      },
      "execution_count": null,
      "outputs": [
        {
          "output_type": "stream",
          "name": "stdout",
          "text": [
            "Linked list is empty!\n"
          ]
        }
      ]
    },
    {
      "cell_type": "markdown",
      "source": [
        "#### **TEST CASE 5:** removing an element at the start of the linked list"
      ],
      "metadata": {
        "id": "6Im2YmGg2OVX"
      }
    },
    {
      "cell_type": "code",
      "source": [
        "LL = LinkedList()\n",
        "LL.remove_beginning()"
      ],
      "metadata": {
        "colab": {
          "base_uri": "https://localhost:8080/"
        },
        "id": "Dv3Cjb4h2DJ5",
        "outputId": "7f80e9fd-68d3-44d0-d6f2-c06e4a38be03"
      },
      "execution_count": null,
      "outputs": [
        {
          "output_type": "stream",
          "name": "stdout",
          "text": [
            "Linked list is empty. There is nothing to remove.\n"
          ]
        }
      ]
    },
    {
      "cell_type": "code",
      "source": [
        "LL.insert_beginning('Kingo')\n",
        "LL.insert_beginning('Gilgamesh')\n",
        "LL.insert_end('Sprite')\n",
        "LL.insert_at('Sprite', 'Starfox')\n",
        "LL.traversal()"
      ],
      "metadata": {
        "colab": {
          "base_uri": "https://localhost:8080/"
        },
        "id": "wlfFAbdM2yuU",
        "outputId": "b0c63dc2-9c06-41e3-f889-132e2e999834"
      },
      "execution_count": null,
      "outputs": [
        {
          "output_type": "stream",
          "name": "stdout",
          "text": [
            "Gilgamesh\n",
            "Kingo\n",
            "Sprite\n",
            "Starfox\n"
          ]
        }
      ]
    },
    {
      "cell_type": "code",
      "source": [
        "LL.remove_beginning()\n",
        "LL.traversal()"
      ],
      "metadata": {
        "colab": {
          "base_uri": "https://localhost:8080/"
        },
        "id": "pjOWgQWA3xXh",
        "outputId": "61133a87-10f8-4d01-f10b-fe6e78e934b8"
      },
      "execution_count": null,
      "outputs": [
        {
          "output_type": "stream",
          "name": "stdout",
          "text": [
            "Kingo\n",
            "Sprite\n",
            "Starfox\n"
          ]
        }
      ]
    },
    {
      "cell_type": "markdown",
      "source": [
        "The code above also includes a method that removes an element at the end of the linked list. It starts with a check of the linked list *head* through conditional *if* to see if it’s empty or not. If empty, a message will be displayed *“Linked list is empty. There is nothing to remove.”*. Otherwise, it will proceed to find out if there is only 1 element in the linked list. If only 1 element is present, the *head* node will point to this element with *next* referencing to *null*. On the other hand, if there are 2 or more elements in the linked list, a **node** variable is created which points to the *head* and will traverse the linked list to find the second to the last element containing the node. Once it is found, it will then be assigned to the node variable and the next element to it will have a value of **None** (remove) making the **node** variable as the new last element in the linked list."
      ],
      "metadata": {
        "id": "kCclp4_jsXqj"
      }
    },
    {
      "cell_type": "markdown",
      "source": [
        "#### **TEST CASE 6:** removing an element at the end of the linked list"
      ],
      "metadata": {
        "id": "9f7EwJ1XFXqK"
      }
    },
    {
      "cell_type": "code",
      "source": [
        "LL.remove_end()\n",
        "LL.traversal()"
      ],
      "metadata": {
        "colab": {
          "base_uri": "https://localhost:8080/"
        },
        "id": "5gtKncTKFazC",
        "outputId": "06eeb358-06a0-45dc-f33a-3b7b1ee000a4"
      },
      "execution_count": null,
      "outputs": [
        {
          "output_type": "stream",
          "name": "stdout",
          "text": [
            "Kingo\n",
            "Sprite\n"
          ]
        }
      ]
    },
    {
      "cell_type": "markdown",
      "source": [
        "The code above also includes the method *remove_at* which removes an element at specific location **by value**. The method starts with a check if the linked list is empty. If it is empty, it displays a message *‘Linked list is empty. There is nothing to remove.’*. Otherwise, it proceeds by checking if the target value matches the *head* value in the linked list. If a match is found, the *head* will take the next element and a **node** variable will take the head value/data and remove the matching element. The method also shows a traversal operation through the while loop while the linked list is not null or empty. The traversal operation will look for the previous node of the current node for a match. If a match is found, it will break out of the loop and proceed to removing the matching element. Otherwise, it will display a message *‘Element/node is not in the linked list.’*"
      ],
      "metadata": {
        "id": "J1K8ioYltD7i"
      }
    },
    {
      "cell_type": "markdown",
      "source": [
        "#### **TEST CASE 7:** removing an element at specific location by value"
      ],
      "metadata": {
        "id": "2ra3GijLgNbS"
      }
    },
    {
      "cell_type": "code",
      "source": [
        "LL.insert_beginning('Kingo')\n",
        "LL.insert_beginning('Gilgamesh')\n",
        "LL.insert_end('Sprite')\n",
        "LL.insert_end('Stafox')\n",
        "LL.traversal()"
      ],
      "metadata": {
        "colab": {
          "base_uri": "https://localhost:8080/"
        },
        "id": "GQ8AodAWhNpU",
        "outputId": "0d7c3761-59a5-472d-c49f-f97d91c9989c"
      },
      "execution_count": null,
      "outputs": [
        {
          "output_type": "stream",
          "name": "stdout",
          "text": [
            "Gilgamesh\n",
            "Kingo\n",
            "Sprite\n",
            "Stafox\n"
          ]
        }
      ]
    },
    {
      "cell_type": "code",
      "source": [
        "LL.remove_at('Sprite')\n",
        "LL.traversal()"
      ],
      "metadata": {
        "colab": {
          "base_uri": "https://localhost:8080/"
        },
        "id": "5DsUK6xEiWAi",
        "outputId": "c77b8019-6bc1-4bf9-bfee-5c5669f17b01"
      },
      "execution_count": null,
      "outputs": [
        {
          "output_type": "stream",
          "name": "stdout",
          "text": [
            "Gilgamesh\n",
            "Kingo\n",
            "Stafox\n"
          ]
        }
      ]
    },
    {
      "cell_type": "markdown",
      "source": [
        "### **DOUBLY LINKED LIST**"
      ],
      "metadata": {
        "id": "QywH8wxjuGQ_"
      }
    },
    {
      "cell_type": "markdown",
      "source": [
        "For the doubly linked list, the code that follows can be implemented. This involves an implementation of the basic class *ListNode* with 3 attributes as compared to singly linked list. These attributes are: data, next and prev.\n"
      ],
      "metadata": {
        "id": "72XuY7ctFwo3"
      }
    },
    {
      "cell_type": "code",
      "source": [
        "class ListNode: # Node constructor\n",
        "  def __init__ (self, data):\n",
        "    self.data = data\n",
        "    self.next = None # reference to next node\n",
        "    self.prev = None # reference to previous node\n",
        "\n",
        "class DoublyLinkedList: # doubly linked list class\n",
        "  def __init__ (self): # initialization with head pointing to None\n",
        "    self.head = None\n",
        " \n",
        "  def insert_beginning(self, data):\n",
        "    node = ListNode(data) # allocate node with data\n",
        "    node.next = self.head # assign head to next node\n",
        "    node.prev = None  # assign none to previous node\n",
        "\n",
        "    if self.head is not None:\n",
        "      self.head.prev = node # allocate previous to node\n",
        "    \n",
        "    self.head = node # make the new node as head\n",
        "\n",
        "  def insert_end (self, data):\n",
        "    if self.head is None: # check if linked list is empty\n",
        "      node = ListNode(data)\n",
        "      self.head = node\n",
        "      return\n",
        "    node = self.head # list is not empty\n",
        "    while node.next is not None: # iterate until Null\n",
        "      node = node.next\n",
        "    newNode = ListNode(data) # initialize new node\n",
        "    node.next = newNode # next node pointing to new node\n",
        "    newNode.prev = node # newNode's prev will point to node\n",
        "  \n",
        "  def remove_beginning (self):\n",
        "    if self.head is None: # empty linked list, nothing to remove\n",
        "      print('Nothing to delete. List is empty!')\n",
        "      return\n",
        "    if self.head.next is None: # list contains only 1 element\n",
        "      self.head = None # remove head by pointing to None\n",
        "      return\n",
        "    self.head = self.head.next \n",
        "    self.prev = None\n",
        "\n",
        "  def remove_end(self):\n",
        "    if self.head is None: # empty linked list, nothing to remove\n",
        "      print('Nothing to delete. List is empty!')\n",
        "      return\n",
        "    if self.head.next is None: # list contains only 1 element\n",
        "      self.head = None # remove head by pointing to None\n",
        "      return\n",
        "    node = self.head # starting from head\n",
        "    while node.next is not None: # traverse to find last element\n",
        "      node = node.next\n",
        "    # last element found, remove last element\n",
        "    # by pointing next element of prev element to None\n",
        "    node.prev.next = None\n",
        "    \n",
        "  def traversal(self): # traverse and display every element in the list\n",
        "    if self.head is None: # checks if list is empty\n",
        "      print('Linked list is empty!') # nothing to display\n",
        "    else: # printing linked list elements\n",
        "      node = self.head\n",
        "      while node is not None:\n",
        "        print('Element is', node.data)\n",
        "        node = node.next"
      ],
      "metadata": {
        "id": "W3radN5IuKsS"
      },
      "execution_count": null,
      "outputs": []
    },
    {
      "cell_type": "markdown",
      "source": [
        "#### **TEST CASE 8:** inserting elements at the beginning and end of doubly linked list"
      ],
      "metadata": {
        "id": "tsSjV6BL2yOb"
      }
    },
    {
      "cell_type": "code",
      "source": [
        "DLL = DoublyLinkedList() # initialize DLL as Doubly Linked List\n",
        "DLL.traversal() # display contents to confirm if empty"
      ],
      "metadata": {
        "colab": {
          "base_uri": "https://localhost:8080/"
        },
        "id": "jlORej8hvSCv",
        "outputId": "0df96583-defc-4b51-8597-f7ac1eec805e"
      },
      "execution_count": null,
      "outputs": [
        {
          "output_type": "stream",
          "name": "stdout",
          "text": [
            "Linked list is empty!\n"
          ]
        }
      ]
    },
    {
      "cell_type": "code",
      "source": [
        "DLL.insert_beginning('World') # inserting \"World\" as beginning of linked list\n",
        "DLL.traversal() # display content(s) of linked list to confirm first entry \"World\""
      ],
      "metadata": {
        "colab": {
          "base_uri": "https://localhost:8080/"
        },
        "id": "kyyY0ZY3z0t-",
        "outputId": "40c1a80e-e6ca-4978-c41f-3fe7d908a34b"
      },
      "execution_count": null,
      "outputs": [
        {
          "output_type": "stream",
          "name": "stdout",
          "text": [
            "Element is World\n"
          ]
        }
      ]
    },
    {
      "cell_type": "code",
      "source": [
        "DLL.insert_end('Hello') # insert \"Hello\" at the end of linked list\n",
        "DLL.traversal() # display to confirm element insertion at end of linked list"
      ],
      "metadata": {
        "colab": {
          "base_uri": "https://localhost:8080/"
        },
        "id": "MtRkdZje0NCf",
        "outputId": "ffde09b5-1a74-4481-aa79-7d7c2dc20ea6"
      },
      "execution_count": null,
      "outputs": [
        {
          "output_type": "stream",
          "name": "stdout",
          "text": [
            "Element is World\n",
            "Element is Hello\n"
          ]
        }
      ]
    },
    {
      "cell_type": "markdown",
      "source": [
        "#### **TEST CASE 9:** deleting elements at the beginning and end of doubly linked list"
      ],
      "metadata": {
        "id": "T3QUlo3X3kNs"
      }
    },
    {
      "cell_type": "code",
      "source": [
        "DLL.remove_beginning() # deleting \"World\" as beggining element of linked list\n",
        "DLL.traversal() # display to confirm deletion of element"
      ],
      "metadata": {
        "colab": {
          "base_uri": "https://localhost:8080/"
        },
        "id": "wMcRwp-n0QCZ",
        "outputId": "8e249655-1c63-4071-ebdc-f8ed9ed29ed9"
      },
      "execution_count": null,
      "outputs": [
        {
          "output_type": "stream",
          "name": "stdout",
          "text": [
            "Element is Hello\n"
          ]
        }
      ]
    },
    {
      "cell_type": "code",
      "source": [
        "DLL.insert_end('Philippines') # adding 'Philippines' element as last element of our linked list\n",
        "DLL.traversal() # display to confirm insertion of 'Philippines' element as last entry"
      ],
      "metadata": {
        "colab": {
          "base_uri": "https://localhost:8080/"
        },
        "id": "GD1cu91C0XTN",
        "outputId": "11a570ee-2667-45d2-e4ce-0b0c5ac2a46c"
      },
      "execution_count": null,
      "outputs": [
        {
          "output_type": "stream",
          "name": "stdout",
          "text": [
            "Element is Hello\n",
            "Element is Philippines\n"
          ]
        }
      ]
    },
    {
      "cell_type": "code",
      "source": [
        "DLL.remove_end() # deleting 'Philippines' being the last entry of our linked list\n",
        "DLL.traversal() # display elements to confirm deletion of last entry - 'Philippines'"
      ],
      "metadata": {
        "colab": {
          "base_uri": "https://localhost:8080/"
        },
        "id": "8i-dSSON0lqB",
        "outputId": "80fc2d3c-68c8-4470-bee9-ad969e4df5e1"
      },
      "execution_count": null,
      "outputs": [
        {
          "output_type": "stream",
          "name": "stdout",
          "text": [
            "Element is Hello\n"
          ]
        }
      ]
    },
    {
      "cell_type": "code",
      "source": [],
      "metadata": {
        "id": "Tfmatva02sGP"
      },
      "execution_count": null,
      "outputs": []
    }
  ]
}