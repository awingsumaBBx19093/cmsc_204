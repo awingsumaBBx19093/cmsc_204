{
  "nbformat": 4,
  "nbformat_minor": 0,
  "metadata": {
    "colab": {
      "provenance": [],
      "authorship_tag": "ABX9TyNB3DeLoNYBnrXCiRAgp8xo",
      "include_colab_link": true
    },
    "kernelspec": {
      "name": "python3",
      "display_name": "Python 3"
    },
    "language_info": {
      "name": "python"
    }
  },
  "cells": [
    {
      "cell_type": "markdown",
      "metadata": {
        "id": "view-in-github",
        "colab_type": "text"
      },
      "source": [
        "<a href=\"https://colab.research.google.com/github/awingsumaBBx19093/cmsc_204/blob/main/Sumalinog_Stacks_and_Queues.ipynb\" target=\"_parent\"><img src=\"https://colab.research.google.com/assets/colab-badge.svg\" alt=\"Open In Colab\"/></a>"
      ]
    },
    {
      "cell_type": "markdown",
      "source": [
        "## CMSC 204 Programming Log 3 | Aldwin C. Sumalinog\n",
        "#### Stacks and Queus"
      ],
      "metadata": {
        "id": "Yx5sb1BZr2b8"
      }
    },
    {
      "cell_type": "markdown",
      "source": [
        "**********************\n",
        "**Implementing Stack**"
      ],
      "metadata": {
        "id": "6XsuWzO2sS1Y"
      }
    },
    {
      "cell_type": "markdown",
      "source": [
        "The code below shows implementation of Stack with deque from collections. The class Stack contains 4 methods: the __init__ method for initialization, push_el method for pushing element into the stack, pop_el method to pop-out elements from the stack and the print_el method for printing the contents of the stack. "
      ],
      "metadata": {
        "id": "S0SX5QD--q2v"
      }
    },
    {
      "cell_type": "code",
      "execution_count": null,
      "metadata": {
        "id": "svcZayXxrxRR"
      },
      "outputs": [],
      "source": [
        "from collections import deque\n",
        "\n",
        "class Stack:\n",
        "  def __init__(self):\n",
        "    self.container = deque()\n",
        "\n",
        "  def push_el(self, data):\n",
        "    self.container.append(data)\n",
        "  \n",
        "  def pop_el(self):\n",
        "    return self.container.pop()\n",
        "\n",
        "  def print_el(self):\n",
        "    return self.container"
      ]
    },
    {
      "cell_type": "markdown",
      "source": [
        "##### **Test Case 1: demonstrating push method**\n",
        "##### Elements pushed into the stack: (1) Hello (2) World (3) Hello (4) Philippines"
      ],
      "metadata": {
        "id": "cUuQ-pnR7Vyy"
      }
    },
    {
      "cell_type": "code",
      "source": [
        "s = Stack()\n",
        "s.push_el('Hello')\n",
        "s.push_el('World')\n",
        "s.push_el('Hello')\n",
        "s.push_el('Philippines')\n",
        "s.print_el()"
      ],
      "metadata": {
        "colab": {
          "base_uri": "https://localhost:8080/"
        },
        "id": "bokez_fIt0WS",
        "outputId": "1241d5a3-cde2-4ea0-f4bb-cb8e46cc13e7"
      },
      "execution_count": null,
      "outputs": [
        {
          "output_type": "execute_result",
          "data": {
            "text/plain": [
              "deque(['Hello', 'World', 'Hello', 'Philippines'])"
            ]
          },
          "metadata": {},
          "execution_count": 19
        }
      ]
    },
    {
      "cell_type": "markdown",
      "source": [
        "##### **Test Case 2: demonstrating pop method**\n",
        "##### Last element pushed into stack is 'Philippines' (LIFO)\n",
        "##### Output now showing without the 'Philippines' element"
      ],
      "metadata": {
        "id": "0j15tqfh7nWp"
      }
    },
    {
      "cell_type": "code",
      "source": [
        "s.pop_el()\n",
        "s.print_el()"
      ],
      "metadata": {
        "colab": {
          "base_uri": "https://localhost:8080/"
        },
        "id": "UwN6wbId6XD4",
        "outputId": "57cd8cd8-dcf1-4f98-c9eb-807f3a400391"
      },
      "execution_count": null,
      "outputs": [
        {
          "output_type": "execute_result",
          "data": {
            "text/plain": [
              "deque(['Hello', 'World', 'Hello'])"
            ]
          },
          "metadata": {},
          "execution_count": 20
        }
      ]
    },
    {
      "cell_type": "markdown",
      "source": [
        "Test case 2 shows how the last element as the last entry becomes the first element removed using the idea of LiFO with *pop_el* method"
      ],
      "metadata": {
        "id": "y4AUYsi6-9Su"
      }
    },
    {
      "cell_type": "markdown",
      "source": [
        "**********************\n",
        "**Implementing Queue**"
      ],
      "metadata": {
        "id": "-7IGewE-_Hpe"
      }
    },
    {
      "cell_type": "markdown",
      "source": [
        "The code below implements the enqueue_el and dequeue_el methods for the Queue. The enqueue_el method inserts new elements by appending it to the left of the other elements within the queue. The first element inserted into our queue will be the first element to be popped (or removed) when dequeue_el method is called. This follows the idea of FIFO (First In, First Out). "
      ],
      "metadata": {
        "id": "F2IE6FJcAZ9b"
      }
    },
    {
      "cell_type": "code",
      "source": [
        "class Queue:\n",
        "  def __init__ (self):\n",
        "    self.buffer = deque()\n",
        "  \n",
        "  def enqueue_el(self, data):\n",
        "    self.buffer.appendleft(data)\n",
        "\n",
        "  def dequeue_el(self):\n",
        "    return self.buffer.pop()\n",
        "  \n",
        "  def print_el(self):\n",
        "    return self.buffer"
      ],
      "metadata": {
        "id": "8J4xiR7n66cj"
      },
      "execution_count": null,
      "outputs": []
    },
    {
      "cell_type": "markdown",
      "source": [
        "##### **Test Case 3: demonstrating enqueue method**\n",
        "##### Pushing element into our queue through the appendleft function"
      ],
      "metadata": {
        "id": "jT-GA3p8ACzb"
      }
    },
    {
      "cell_type": "code",
      "source": [
        "q = Queue()\n",
        "q.enqueue_el('Hello')\n",
        "q.enqueue_el('World')\n",
        "q.enqueue_el('Hello')\n",
        "q.enqueue_el('Philippines')\n",
        "q.print_el()"
      ],
      "metadata": {
        "colab": {
          "base_uri": "https://localhost:8080/"
        },
        "id": "AejYYysdACP2",
        "outputId": "f9b24c92-7ecb-492e-c16e-cd463765d2e3"
      },
      "execution_count": null,
      "outputs": [
        {
          "output_type": "execute_result",
          "data": {
            "text/plain": [
              "deque(['Philippines', 'Hello', 'World', 'Hello'])"
            ]
          },
          "metadata": {},
          "execution_count": 24
        }
      ]
    },
    {
      "cell_type": "markdown",
      "source": [
        "##### **Test Case 4: demonstrating dequeue_el method**\n",
        "##### Popping element from our queue through the pop function"
      ],
      "metadata": {
        "id": "rarLoqsBCtI6"
      }
    },
    {
      "cell_type": "code",
      "source": [
        "q.dequeue_el()\n",
        "q.print_el()"
      ],
      "metadata": {
        "colab": {
          "base_uri": "https://localhost:8080/"
        },
        "id": "tELMZGuTBpn5",
        "outputId": "d1393d8b-db97-4fd8-83f6-9599695a79b6"
      },
      "execution_count": null,
      "outputs": [
        {
          "output_type": "execute_result",
          "data": {
            "text/plain": [
              "deque(['Philippines', 'Hello', 'World'])"
            ]
          },
          "metadata": {},
          "execution_count": 27
        }
      ]
    },
    {
      "cell_type": "code",
      "source": [],
      "metadata": {
        "id": "fd0p-ObDC_P2"
      },
      "execution_count": null,
      "outputs": []
    }
  ]
}